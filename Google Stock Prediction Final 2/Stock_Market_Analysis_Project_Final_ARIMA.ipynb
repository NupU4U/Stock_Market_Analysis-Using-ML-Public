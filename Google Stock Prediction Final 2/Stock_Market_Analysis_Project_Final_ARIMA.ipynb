{
  "nbformat": 4,
  "nbformat_minor": 0,
  "metadata": {
    "colab": {
      "name": "Stock_Market_Analysis_Project_Final_ARIMA.ipynb",
      "provenance": []
    },
    "kernelspec": {
      "name": "python3",
      "display_name": "Python 3"
    },
    "language_info": {
      "name": "python"
    }
  },
  "cells": [
    {
      "cell_type": "code",
      "execution_count": 1,
      "metadata": {
        "id": "2LUP55TeFA-m"
      },
      "outputs": [],
      "source": [
        "import pandas as pd\n",
        "import numpy as np\n",
        "import datetime\n",
        "import matplotlib.pyplot as plt"
      ]
    },
    {
      "cell_type": "code",
      "source": [
        "df = pd.read_csv(\"/content/drive/MyDrive/GOOG_train.csv\")"
      ],
      "metadata": {
        "id": "-7pNW_eVGrxS"
      },
      "execution_count": 2,
      "outputs": []
    },
    {
      "cell_type": "code",
      "source": [
        "test = pd.read_csv(\"/content/drive/MyDrive/GOOG_test.csv\")"
      ],
      "metadata": {
        "id": "naoTFB0J0TUv"
      },
      "execution_count": 3,
      "outputs": []
    },
    {
      "cell_type": "code",
      "source": [
        "test.describe()"
      ],
      "metadata": {
        "colab": {
          "base_uri": "https://localhost:8080/",
          "height": 300
        },
        "id": "fX7hJjLU9Sev",
        "outputId": "6ccae3a1-c57f-4a34-e0d0-c332440c6db5"
      },
      "execution_count": 4,
      "outputs": [
        {
          "output_type": "execute_result",
          "data": {
            "text/plain": [
              "              Open         High          Low        Close    Adj Close  \\\n",
              "count   253.000000   253.000000   253.000000   253.000000   253.000000   \n",
              "mean   2702.674255  2730.161156  2672.508566  2700.858899  2700.858899   \n",
              "std     207.658815   202.614255   208.531935   205.434607   205.434607   \n",
              "min    2102.840088  2127.899902  2044.160034  2116.790039  2116.790039   \n",
              "25%    2596.669922  2618.074951  2550.070068  2584.800049  2584.800049   \n",
              "50%    2742.194092  2767.989990  2714.000000  2740.090088  2740.090088   \n",
              "75%    2864.020020  2885.959961  2834.699951  2856.060059  2856.060059   \n",
              "max    3037.270020  3042.000000  2997.750000  3014.179932  3014.179932   \n",
              "\n",
              "             Volume  \n",
              "count  2.530000e+02  \n",
              "mean   1.303822e+06  \n",
              "std    5.369361e+05  \n",
              "min    5.933000e+05  \n",
              "25%    9.462000e+05  \n",
              "50%    1.182100e+06  \n",
              "75%    1.512400e+06  \n",
              "max    4.487500e+06  "
            ],
            "text/html": [
              "\n",
              "  <div id=\"df-c629b302-fc69-4d23-871b-7da502771b03\">\n",
              "    <div class=\"colab-df-container\">\n",
              "      <div>\n",
              "<style scoped>\n",
              "    .dataframe tbody tr th:only-of-type {\n",
              "        vertical-align: middle;\n",
              "    }\n",
              "\n",
              "    .dataframe tbody tr th {\n",
              "        vertical-align: top;\n",
              "    }\n",
              "\n",
              "    .dataframe thead th {\n",
              "        text-align: right;\n",
              "    }\n",
              "</style>\n",
              "<table border=\"1\" class=\"dataframe\">\n",
              "  <thead>\n",
              "    <tr style=\"text-align: right;\">\n",
              "      <th></th>\n",
              "      <th>Open</th>\n",
              "      <th>High</th>\n",
              "      <th>Low</th>\n",
              "      <th>Close</th>\n",
              "      <th>Adj Close</th>\n",
              "      <th>Volume</th>\n",
              "    </tr>\n",
              "  </thead>\n",
              "  <tbody>\n",
              "    <tr>\n",
              "      <th>count</th>\n",
              "      <td>253.000000</td>\n",
              "      <td>253.000000</td>\n",
              "      <td>253.000000</td>\n",
              "      <td>253.000000</td>\n",
              "      <td>253.000000</td>\n",
              "      <td>2.530000e+02</td>\n",
              "    </tr>\n",
              "    <tr>\n",
              "      <th>mean</th>\n",
              "      <td>2702.674255</td>\n",
              "      <td>2730.161156</td>\n",
              "      <td>2672.508566</td>\n",
              "      <td>2700.858899</td>\n",
              "      <td>2700.858899</td>\n",
              "      <td>1.303822e+06</td>\n",
              "    </tr>\n",
              "    <tr>\n",
              "      <th>std</th>\n",
              "      <td>207.658815</td>\n",
              "      <td>202.614255</td>\n",
              "      <td>208.531935</td>\n",
              "      <td>205.434607</td>\n",
              "      <td>205.434607</td>\n",
              "      <td>5.369361e+05</td>\n",
              "    </tr>\n",
              "    <tr>\n",
              "      <th>min</th>\n",
              "      <td>2102.840088</td>\n",
              "      <td>2127.899902</td>\n",
              "      <td>2044.160034</td>\n",
              "      <td>2116.790039</td>\n",
              "      <td>2116.790039</td>\n",
              "      <td>5.933000e+05</td>\n",
              "    </tr>\n",
              "    <tr>\n",
              "      <th>25%</th>\n",
              "      <td>2596.669922</td>\n",
              "      <td>2618.074951</td>\n",
              "      <td>2550.070068</td>\n",
              "      <td>2584.800049</td>\n",
              "      <td>2584.800049</td>\n",
              "      <td>9.462000e+05</td>\n",
              "    </tr>\n",
              "    <tr>\n",
              "      <th>50%</th>\n",
              "      <td>2742.194092</td>\n",
              "      <td>2767.989990</td>\n",
              "      <td>2714.000000</td>\n",
              "      <td>2740.090088</td>\n",
              "      <td>2740.090088</td>\n",
              "      <td>1.182100e+06</td>\n",
              "    </tr>\n",
              "    <tr>\n",
              "      <th>75%</th>\n",
              "      <td>2864.020020</td>\n",
              "      <td>2885.959961</td>\n",
              "      <td>2834.699951</td>\n",
              "      <td>2856.060059</td>\n",
              "      <td>2856.060059</td>\n",
              "      <td>1.512400e+06</td>\n",
              "    </tr>\n",
              "    <tr>\n",
              "      <th>max</th>\n",
              "      <td>3037.270020</td>\n",
              "      <td>3042.000000</td>\n",
              "      <td>2997.750000</td>\n",
              "      <td>3014.179932</td>\n",
              "      <td>3014.179932</td>\n",
              "      <td>4.487500e+06</td>\n",
              "    </tr>\n",
              "  </tbody>\n",
              "</table>\n",
              "</div>\n",
              "      <button class=\"colab-df-convert\" onclick=\"convertToInteractive('df-c629b302-fc69-4d23-871b-7da502771b03')\"\n",
              "              title=\"Convert this dataframe to an interactive table.\"\n",
              "              style=\"display:none;\">\n",
              "        \n",
              "  <svg xmlns=\"http://www.w3.org/2000/svg\" height=\"24px\"viewBox=\"0 0 24 24\"\n",
              "       width=\"24px\">\n",
              "    <path d=\"M0 0h24v24H0V0z\" fill=\"none\"/>\n",
              "    <path d=\"M18.56 5.44l.94 2.06.94-2.06 2.06-.94-2.06-.94-.94-2.06-.94 2.06-2.06.94zm-11 1L8.5 8.5l.94-2.06 2.06-.94-2.06-.94L8.5 2.5l-.94 2.06-2.06.94zm10 10l.94 2.06.94-2.06 2.06-.94-2.06-.94-.94-2.06-.94 2.06-2.06.94z\"/><path d=\"M17.41 7.96l-1.37-1.37c-.4-.4-.92-.59-1.43-.59-.52 0-1.04.2-1.43.59L10.3 9.45l-7.72 7.72c-.78.78-.78 2.05 0 2.83L4 21.41c.39.39.9.59 1.41.59.51 0 1.02-.2 1.41-.59l7.78-7.78 2.81-2.81c.8-.78.8-2.07 0-2.86zM5.41 20L4 18.59l7.72-7.72 1.47 1.35L5.41 20z\"/>\n",
              "  </svg>\n",
              "      </button>\n",
              "      \n",
              "  <style>\n",
              "    .colab-df-container {\n",
              "      display:flex;\n",
              "      flex-wrap:wrap;\n",
              "      gap: 12px;\n",
              "    }\n",
              "\n",
              "    .colab-df-convert {\n",
              "      background-color: #E8F0FE;\n",
              "      border: none;\n",
              "      border-radius: 50%;\n",
              "      cursor: pointer;\n",
              "      display: none;\n",
              "      fill: #1967D2;\n",
              "      height: 32px;\n",
              "      padding: 0 0 0 0;\n",
              "      width: 32px;\n",
              "    }\n",
              "\n",
              "    .colab-df-convert:hover {\n",
              "      background-color: #E2EBFA;\n",
              "      box-shadow: 0px 1px 2px rgba(60, 64, 67, 0.3), 0px 1px 3px 1px rgba(60, 64, 67, 0.15);\n",
              "      fill: #174EA6;\n",
              "    }\n",
              "\n",
              "    [theme=dark] .colab-df-convert {\n",
              "      background-color: #3B4455;\n",
              "      fill: #D2E3FC;\n",
              "    }\n",
              "\n",
              "    [theme=dark] .colab-df-convert:hover {\n",
              "      background-color: #434B5C;\n",
              "      box-shadow: 0px 1px 3px 1px rgba(0, 0, 0, 0.15);\n",
              "      filter: drop-shadow(0px 1px 2px rgba(0, 0, 0, 0.3));\n",
              "      fill: #FFFFFF;\n",
              "    }\n",
              "  </style>\n",
              "\n",
              "      <script>\n",
              "        const buttonEl =\n",
              "          document.querySelector('#df-c629b302-fc69-4d23-871b-7da502771b03 button.colab-df-convert');\n",
              "        buttonEl.style.display =\n",
              "          google.colab.kernel.accessAllowed ? 'block' : 'none';\n",
              "\n",
              "        async function convertToInteractive(key) {\n",
              "          const element = document.querySelector('#df-c629b302-fc69-4d23-871b-7da502771b03');\n",
              "          const dataTable =\n",
              "            await google.colab.kernel.invokeFunction('convertToInteractive',\n",
              "                                                     [key], {});\n",
              "          if (!dataTable) return;\n",
              "\n",
              "          const docLinkHtml = 'Like what you see? Visit the ' +\n",
              "            '<a target=\"_blank\" href=https://colab.research.google.com/notebooks/data_table.ipynb>data table notebook</a>'\n",
              "            + ' to learn more about interactive tables.';\n",
              "          element.innerHTML = '';\n",
              "          dataTable['output_type'] = 'display_data';\n",
              "          await google.colab.output.renderOutput(dataTable, element);\n",
              "          const docLink = document.createElement('div');\n",
              "          docLink.innerHTML = docLinkHtml;\n",
              "          element.appendChild(docLink);\n",
              "        }\n",
              "      </script>\n",
              "    </div>\n",
              "  </div>\n",
              "  "
            ]
          },
          "metadata": {},
          "execution_count": 4
        }
      ]
    },
    {
      "cell_type": "code",
      "source": [
        "df.tail()"
      ],
      "metadata": {
        "colab": {
          "base_uri": "https://localhost:8080/",
          "height": 206
        },
        "id": "725MvFEJG8G2",
        "outputId": "8d307eb4-a74f-45c0-a401-d455d8ecda06"
      },
      "execution_count": 163,
      "outputs": [
        {
          "output_type": "execute_result",
          "data": {
            "text/plain": [
              "            Date         Open         High          Low        Close  \\\n",
              "1253  2021-06-03  2395.020020  2409.745117  2382.830078  2404.610107   \n",
              "1254  2021-06-04  2422.520020  2453.858887  2417.770020  2451.760010   \n",
              "1255  2021-06-07  2451.320068  2468.000000  2441.072998  2466.090088   \n",
              "1256  2021-06-08  2479.899902  2494.495117  2468.239990  2482.850098   \n",
              "1257  2021-06-09  2499.500000  2505.000000  2487.330078  2491.399902   \n",
              "\n",
              "        Adj Close   Volume  \n",
              "1253  2404.610107   917300  \n",
              "1254  2451.760010  1297400  \n",
              "1255  2466.090088  1192500  \n",
              "1256  2482.850098  1253000  \n",
              "1257  2491.399902  1006300  "
            ],
            "text/html": [
              "\n",
              "  <div id=\"df-1d41d6fb-9813-4b7f-865c-62afa1387048\">\n",
              "    <div class=\"colab-df-container\">\n",
              "      <div>\n",
              "<style scoped>\n",
              "    .dataframe tbody tr th:only-of-type {\n",
              "        vertical-align: middle;\n",
              "    }\n",
              "\n",
              "    .dataframe tbody tr th {\n",
              "        vertical-align: top;\n",
              "    }\n",
              "\n",
              "    .dataframe thead th {\n",
              "        text-align: right;\n",
              "    }\n",
              "</style>\n",
              "<table border=\"1\" class=\"dataframe\">\n",
              "  <thead>\n",
              "    <tr style=\"text-align: right;\">\n",
              "      <th></th>\n",
              "      <th>Date</th>\n",
              "      <th>Open</th>\n",
              "      <th>High</th>\n",
              "      <th>Low</th>\n",
              "      <th>Close</th>\n",
              "      <th>Adj Close</th>\n",
              "      <th>Volume</th>\n",
              "    </tr>\n",
              "  </thead>\n",
              "  <tbody>\n",
              "    <tr>\n",
              "      <th>1253</th>\n",
              "      <td>2021-06-03</td>\n",
              "      <td>2395.020020</td>\n",
              "      <td>2409.745117</td>\n",
              "      <td>2382.830078</td>\n",
              "      <td>2404.610107</td>\n",
              "      <td>2404.610107</td>\n",
              "      <td>917300</td>\n",
              "    </tr>\n",
              "    <tr>\n",
              "      <th>1254</th>\n",
              "      <td>2021-06-04</td>\n",
              "      <td>2422.520020</td>\n",
              "      <td>2453.858887</td>\n",
              "      <td>2417.770020</td>\n",
              "      <td>2451.760010</td>\n",
              "      <td>2451.760010</td>\n",
              "      <td>1297400</td>\n",
              "    </tr>\n",
              "    <tr>\n",
              "      <th>1255</th>\n",
              "      <td>2021-06-07</td>\n",
              "      <td>2451.320068</td>\n",
              "      <td>2468.000000</td>\n",
              "      <td>2441.072998</td>\n",
              "      <td>2466.090088</td>\n",
              "      <td>2466.090088</td>\n",
              "      <td>1192500</td>\n",
              "    </tr>\n",
              "    <tr>\n",
              "      <th>1256</th>\n",
              "      <td>2021-06-08</td>\n",
              "      <td>2479.899902</td>\n",
              "      <td>2494.495117</td>\n",
              "      <td>2468.239990</td>\n",
              "      <td>2482.850098</td>\n",
              "      <td>2482.850098</td>\n",
              "      <td>1253000</td>\n",
              "    </tr>\n",
              "    <tr>\n",
              "      <th>1257</th>\n",
              "      <td>2021-06-09</td>\n",
              "      <td>2499.500000</td>\n",
              "      <td>2505.000000</td>\n",
              "      <td>2487.330078</td>\n",
              "      <td>2491.399902</td>\n",
              "      <td>2491.399902</td>\n",
              "      <td>1006300</td>\n",
              "    </tr>\n",
              "  </tbody>\n",
              "</table>\n",
              "</div>\n",
              "      <button class=\"colab-df-convert\" onclick=\"convertToInteractive('df-1d41d6fb-9813-4b7f-865c-62afa1387048')\"\n",
              "              title=\"Convert this dataframe to an interactive table.\"\n",
              "              style=\"display:none;\">\n",
              "        \n",
              "  <svg xmlns=\"http://www.w3.org/2000/svg\" height=\"24px\"viewBox=\"0 0 24 24\"\n",
              "       width=\"24px\">\n",
              "    <path d=\"M0 0h24v24H0V0z\" fill=\"none\"/>\n",
              "    <path d=\"M18.56 5.44l.94 2.06.94-2.06 2.06-.94-2.06-.94-.94-2.06-.94 2.06-2.06.94zm-11 1L8.5 8.5l.94-2.06 2.06-.94-2.06-.94L8.5 2.5l-.94 2.06-2.06.94zm10 10l.94 2.06.94-2.06 2.06-.94-2.06-.94-.94-2.06-.94 2.06-2.06.94z\"/><path d=\"M17.41 7.96l-1.37-1.37c-.4-.4-.92-.59-1.43-.59-.52 0-1.04.2-1.43.59L10.3 9.45l-7.72 7.72c-.78.78-.78 2.05 0 2.83L4 21.41c.39.39.9.59 1.41.59.51 0 1.02-.2 1.41-.59l7.78-7.78 2.81-2.81c.8-.78.8-2.07 0-2.86zM5.41 20L4 18.59l7.72-7.72 1.47 1.35L5.41 20z\"/>\n",
              "  </svg>\n",
              "      </button>\n",
              "      \n",
              "  <style>\n",
              "    .colab-df-container {\n",
              "      display:flex;\n",
              "      flex-wrap:wrap;\n",
              "      gap: 12px;\n",
              "    }\n",
              "\n",
              "    .colab-df-convert {\n",
              "      background-color: #E8F0FE;\n",
              "      border: none;\n",
              "      border-radius: 50%;\n",
              "      cursor: pointer;\n",
              "      display: none;\n",
              "      fill: #1967D2;\n",
              "      height: 32px;\n",
              "      padding: 0 0 0 0;\n",
              "      width: 32px;\n",
              "    }\n",
              "\n",
              "    .colab-df-convert:hover {\n",
              "      background-color: #E2EBFA;\n",
              "      box-shadow: 0px 1px 2px rgba(60, 64, 67, 0.3), 0px 1px 3px 1px rgba(60, 64, 67, 0.15);\n",
              "      fill: #174EA6;\n",
              "    }\n",
              "\n",
              "    [theme=dark] .colab-df-convert {\n",
              "      background-color: #3B4455;\n",
              "      fill: #D2E3FC;\n",
              "    }\n",
              "\n",
              "    [theme=dark] .colab-df-convert:hover {\n",
              "      background-color: #434B5C;\n",
              "      box-shadow: 0px 1px 3px 1px rgba(0, 0, 0, 0.15);\n",
              "      filter: drop-shadow(0px 1px 2px rgba(0, 0, 0, 0.3));\n",
              "      fill: #FFFFFF;\n",
              "    }\n",
              "  </style>\n",
              "\n",
              "      <script>\n",
              "        const buttonEl =\n",
              "          document.querySelector('#df-1d41d6fb-9813-4b7f-865c-62afa1387048 button.colab-df-convert');\n",
              "        buttonEl.style.display =\n",
              "          google.colab.kernel.accessAllowed ? 'block' : 'none';\n",
              "\n",
              "        async function convertToInteractive(key) {\n",
              "          const element = document.querySelector('#df-1d41d6fb-9813-4b7f-865c-62afa1387048');\n",
              "          const dataTable =\n",
              "            await google.colab.kernel.invokeFunction('convertToInteractive',\n",
              "                                                     [key], {});\n",
              "          if (!dataTable) return;\n",
              "\n",
              "          const docLinkHtml = 'Like what you see? Visit the ' +\n",
              "            '<a target=\"_blank\" href=https://colab.research.google.com/notebooks/data_table.ipynb>data table notebook</a>'\n",
              "            + ' to learn more about interactive tables.';\n",
              "          element.innerHTML = '';\n",
              "          dataTable['output_type'] = 'display_data';\n",
              "          await google.colab.output.renderOutput(dataTable, element);\n",
              "          const docLink = document.createElement('div');\n",
              "          docLink.innerHTML = docLinkHtml;\n",
              "          element.appendChild(docLink);\n",
              "        }\n",
              "      </script>\n",
              "    </div>\n",
              "  </div>\n",
              "  "
            ]
          },
          "metadata": {},
          "execution_count": 163
        }
      ]
    },
    {
      "cell_type": "code",
      "source": [
        "df = list(df[\"Close\"])\n",
        "test = list(test[\"Close\"])"
      ],
      "metadata": {
        "id": "Zu4wvTvaH1Zn"
      },
      "execution_count": 5,
      "outputs": []
    },
    {
      "cell_type": "code",
      "source": [
        "df.extend(test)\n",
        "len(df)"
      ],
      "metadata": {
        "colab": {
          "base_uri": "https://localhost:8080/"
        },
        "id": "kg2tslZY0Zed",
        "outputId": "ba059a50-7069-40ee-be94-a740c61ab3dc"
      },
      "execution_count": 6,
      "outputs": [
        {
          "output_type": "execute_result",
          "data": {
            "text/plain": [
              "1511"
            ]
          },
          "metadata": {},
          "execution_count": 6
        }
      ]
    },
    {
      "cell_type": "markdown",
      "source": [
        "**Stationarity**\\\n",
        "Subtract the previous value from the current value. Now if we just difference once, we might not get a stationary series so we might need to do that multiple\n",
        "times.\n",
        "And the minimum number of differencing operations needed to make the series stationary needs to be imputed into our ARIMA model.\n",
        "\n",
        "**ADF test**\\\n",
        "We'll use the Augumented Dickey Fuller (ADF) test to check if the price series is stationary.\n",
        "The null hypothesis of the ADF test is that the time series is non-stationary. So, if the p-value of the test is less than the significance level (0.05) then we can\n",
        "reject the null hypothesis and infer that the time series is indeed stationary.\n",
        "So, in our case, if the p-value > 0.05 we'll need to find the order of differencing."
      ],
      "metadata": {
        "id": "IgbFV5ChHbdu"
      }
    },
    {
      "cell_type": "code",
      "source": [
        "from statsmodels.tsa.stattools import adfuller\n",
        "\n",
        "result = adfuller(df)\n",
        "print(\"ADF Statistics:\", result[0])\n",
        "print(\"p Value\", result[1])"
      ],
      "metadata": {
        "colab": {
          "base_uri": "https://localhost:8080/"
        },
        "id": "IpcKQHUsIBrV",
        "outputId": "a1e5af26-17f3-4a86-f555-bcd26fd3fa34"
      },
      "execution_count": 7,
      "outputs": [
        {
          "output_type": "stream",
          "name": "stdout",
          "text": [
            "ADF Statistics: -0.6136582483986682\n",
            "p Value 0.8678658599134335\n"
          ]
        }
      ]
    },
    {
      "cell_type": "code",
      "source": [
        "# Now to make data Stationary we subtract previous value from current till we get p < 0.05 \n",
        "# To find out how many times we need to repeat the above step we use pmdarima\n",
        "!pip install pmdarima"
      ],
      "metadata": {
        "id": "LHUEt5LxJ7_P",
        "colab": {
          "base_uri": "https://localhost:8080/"
        },
        "outputId": "f5f48f11-b270-4251-9758-fb598fa024a1"
      },
      "execution_count": 6,
      "outputs": [
        {
          "output_type": "stream",
          "name": "stdout",
          "text": [
            "Looking in indexes: https://pypi.org/simple, https://us-python.pkg.dev/colab-wheels/public/simple/\n",
            "Requirement already satisfied: pmdarima in /usr/local/lib/python3.7/dist-packages (1.8.5)\n",
            "Requirement already satisfied: urllib3 in /usr/local/lib/python3.7/dist-packages (from pmdarima) (1.24.3)\n",
            "Requirement already satisfied: joblib>=0.11 in /usr/local/lib/python3.7/dist-packages (from pmdarima) (1.1.0)\n",
            "Requirement already satisfied: statsmodels!=0.12.0,>=0.11 in /usr/local/lib/python3.7/dist-packages (from pmdarima) (0.13.2)\n",
            "Requirement already satisfied: scipy>=1.3.2 in /usr/local/lib/python3.7/dist-packages (from pmdarima) (1.7.3)\n",
            "Requirement already satisfied: scikit-learn>=0.22 in /usr/local/lib/python3.7/dist-packages (from pmdarima) (1.0.2)\n",
            "Requirement already satisfied: setuptools!=50.0.0,>=38.6.0 in /usr/local/lib/python3.7/dist-packages (from pmdarima) (57.4.0)\n",
            "Requirement already satisfied: Cython!=0.29.18,>=0.29 in /usr/local/lib/python3.7/dist-packages (from pmdarima) (0.29.30)\n",
            "Requirement already satisfied: pandas>=0.19 in /usr/local/lib/python3.7/dist-packages (from pmdarima) (1.3.5)\n",
            "Requirement already satisfied: numpy>=1.19.3 in /usr/local/lib/python3.7/dist-packages (from pmdarima) (1.21.6)\n",
            "Requirement already satisfied: python-dateutil>=2.7.3 in /usr/local/lib/python3.7/dist-packages (from pandas>=0.19->pmdarima) (2.8.2)\n",
            "Requirement already satisfied: pytz>=2017.3 in /usr/local/lib/python3.7/dist-packages (from pandas>=0.19->pmdarima) (2022.1)\n",
            "Requirement already satisfied: six>=1.5 in /usr/local/lib/python3.7/dist-packages (from python-dateutil>=2.7.3->pandas>=0.19->pmdarima) (1.15.0)\n",
            "Requirement already satisfied: threadpoolctl>=2.0.0 in /usr/local/lib/python3.7/dist-packages (from scikit-learn>=0.22->pmdarima) (3.1.0)\n",
            "Requirement already satisfied: packaging>=21.3 in /usr/local/lib/python3.7/dist-packages (from statsmodels!=0.12.0,>=0.11->pmdarima) (21.3)\n",
            "Requirement already satisfied: patsy>=0.5.2 in /usr/local/lib/python3.7/dist-packages (from statsmodels!=0.12.0,>=0.11->pmdarima) (0.5.2)\n",
            "Requirement already satisfied: pyparsing!=3.0.5,>=2.0.2 in /usr/local/lib/python3.7/dist-packages (from packaging>=21.3->statsmodels!=0.12.0,>=0.11->pmdarima) (3.0.9)\n"
          ]
        }
      ]
    },
    {
      "cell_type": "code",
      "source": [
        "from pmdarima.arima.utils import ndiffs"
      ],
      "metadata": {
        "id": "sRyefZLCKcme"
      },
      "execution_count": 9,
      "outputs": []
    },
    {
      "cell_type": "code",
      "source": [
        "d_value = ndiffs(df,test = \"adf\")\n",
        "print(\"d value:\", d_value)"
      ],
      "metadata": {
        "colab": {
          "base_uri": "https://localhost:8080/"
        },
        "id": "mA-vMrz6KvDR",
        "outputId": "4464cc18-f356-4c32-8f56-9e1a067487d5"
      },
      "execution_count": 10,
      "outputs": [
        {
          "output_type": "stream",
          "name": "stdout",
          "text": [
            "d value: 1\n"
          ]
        }
      ]
    },
    {
      "cell_type": "markdown",
      "source": [
        "**Р-Term**\\\n",
        "p is the order of the Auto Regressive (AR) term. It refers to the number of lags to be used as predictors.\n",
        "We can find out the required number of AR terms by inspecting the Partial Autocorrelation (PACF) plot.\n",
        "The partial autocorrelation represents the correlation between the series and its lags."
      ],
      "metadata": {
        "id": "Fr1LwUPCNg7m"
      }
    },
    {
      "cell_type": "code",
      "source": [
        "from statsmodels.tsa.arima.model import ARIMA"
      ],
      "metadata": {
        "id": "oTMwM8FJPKsH"
      },
      "execution_count": 11,
      "outputs": []
    },
    {
      "cell_type": "code",
      "source": [
        "from pmdarima import auto_arima"
      ],
      "metadata": {
        "id": "TIbG3-nEuww7"
      },
      "execution_count": 12,
      "outputs": []
    },
    {
      "cell_type": "code",
      "source": [
        "x_train= df[:-253]\n",
        "x_test = df[-253:]\n",
        "print(len(x_train),len(x_test))"
      ],
      "metadata": {
        "colab": {
          "base_uri": "https://localhost:8080/"
        },
        "id": "5wcA44G6Dpzj",
        "outputId": "96e860f2-25ba-4689-9ca0-3b28abf1418d"
      },
      "execution_count": 13,
      "outputs": [
        {
          "output_type": "stream",
          "name": "stdout",
          "text": [
            "1258 253\n"
          ]
        }
      ]
    },
    {
      "cell_type": "code",
      "source": [
        "step_fit = auto_arima(df,trace=True,suppress_warnings=True)"
      ],
      "metadata": {
        "colab": {
          "base_uri": "https://localhost:8080/"
        },
        "id": "alFno_q1wXFA",
        "outputId": "1337576a-1394-4741-ddb4-4589326c3e91"
      },
      "execution_count": 14,
      "outputs": [
        {
          "output_type": "stream",
          "name": "stdout",
          "text": [
            "Performing stepwise search to minimize aic\n",
            " ARIMA(2,1,2)(0,0,0)[0] intercept   : AIC=14347.096, Time=2.01 sec\n",
            " ARIMA(0,1,0)(0,0,0)[0] intercept   : AIC=14353.081, Time=0.06 sec\n",
            " ARIMA(1,1,0)(0,0,0)[0] intercept   : AIC=14344.966, Time=0.10 sec\n",
            " ARIMA(0,1,1)(0,0,0)[0] intercept   : AIC=14345.393, Time=0.35 sec\n",
            " ARIMA(0,1,0)(0,0,0)[0]             : AIC=14353.185, Time=0.05 sec\n",
            " ARIMA(2,1,0)(0,0,0)[0] intercept   : AIC=14346.190, Time=0.19 sec\n",
            " ARIMA(1,1,1)(0,0,0)[0] intercept   : AIC=14344.779, Time=1.33 sec\n",
            " ARIMA(2,1,1)(0,0,0)[0] intercept   : AIC=14346.779, Time=1.39 sec\n",
            " ARIMA(1,1,2)(0,0,0)[0] intercept   : AIC=14346.779, Time=1.62 sec\n",
            " ARIMA(0,1,2)(0,0,0)[0] intercept   : AIC=14346.728, Time=0.57 sec\n",
            " ARIMA(1,1,1)(0,0,0)[0]             : AIC=14345.148, Time=0.26 sec\n",
            "\n",
            "Best model:  ARIMA(1,1,1)(0,0,0)[0] intercept\n",
            "Total fit time: 7.949 seconds\n"
          ]
        }
      ]
    },
    {
      "cell_type": "code",
      "source": [
        "import statsmodels.api as sm"
      ],
      "metadata": {
        "id": "9EJua1zUw-EM"
      },
      "execution_count": 15,
      "outputs": []
    },
    {
      "cell_type": "code",
      "source": [
        "model = sm.tsa.arima.ARIMA(df, order=(1,1,1))"
      ],
      "metadata": {
        "id": "djEcIzsaP8dj"
      },
      "execution_count": 23,
      "outputs": []
    },
    {
      "cell_type": "code",
      "source": [
        "result = model.fit()\n",
        "print(step_fit.summary())"
      ],
      "metadata": {
        "colab": {
          "base_uri": "https://localhost:8080/"
        },
        "id": "-2mimnlTRTpF",
        "outputId": "11df1b9d-d551-4c24-900f-5d66aee848ae"
      },
      "execution_count": 24,
      "outputs": [
        {
          "output_type": "stream",
          "name": "stdout",
          "text": [
            "                               SARIMAX Results                                \n",
            "==============================================================================\n",
            "Dep. Variable:                      y   No. Observations:                 1511\n",
            "Model:               SARIMAX(1, 1, 1)   Log Likelihood               -7168.390\n",
            "Date:                Thu, 21 Jul 2022   AIC                          14344.779\n",
            "Time:                        09:47:07   BIC                          14366.059\n",
            "Sample:                             0   HQIC                         14352.704\n",
            "                               - 1511                                         \n",
            "Covariance Type:                  opg                                         \n",
            "==============================================================================\n",
            "                 coef    std err          z      P>|z|      [0.025      0.975]\n",
            "------------------------------------------------------------------------------\n",
            "intercept      1.5704      1.044      1.504      0.133      -0.476       3.617\n",
            "ar.L1         -0.4993      0.135     -3.690      0.000      -0.764      -0.234\n",
            "ma.L1          0.4209      0.140      2.997      0.003       0.146       0.696\n",
            "sigma2       777.9779     14.115     55.116      0.000     750.313     805.643\n",
            "===================================================================================\n",
            "Ljung-Box (L1) (Q):                   0.00   Jarque-Bera (JB):              2307.80\n",
            "Prob(Q):                              1.00   Prob(JB):                         0.00\n",
            "Heteroskedasticity (H):              11.50   Skew:                             0.02\n",
            "Prob(H) (two-sided):                  0.00   Kurtosis:                         9.06\n",
            "===================================================================================\n",
            "\n",
            "Warnings:\n",
            "[1] Covariance matrix calculated using the outer product of gradients (complex-step).\n"
          ]
        }
      ]
    },
    {
      "cell_type": "code",
      "source": [
        "from statsmodels.graphics.tsaplots import plot_predict"
      ],
      "metadata": {
        "id": "mr3qlMtFVbQw"
      },
      "execution_count": 25,
      "outputs": []
    },
    {
      "cell_type": "code",
      "source": [
        "plot_predict(result, start = 700, end = 1270, dynamic = False);"
      ],
      "metadata": {
        "colab": {
          "base_uri": "https://localhost:8080/",
          "height": 265
        },
        "id": "egt5jr4bU9sh",
        "outputId": "572267c6-1b8b-46c2-c71c-31e5bc632f5b"
      },
      "execution_count": 26,
      "outputs": [
        {
          "output_type": "display_data",
          "data": {
            "text/plain": [
              "<Figure size 432x288 with 1 Axes>"
            ],
            "image/png": "[encoded data removed]"
          },
          "metadata": {}
        }
      ]
    },
    {
      "cell_type": "code",
      "source": [
        "#Now lets Forecast\n",
        "start = len(x_train)\n",
        "end= len(x_train) + len(x_test) - 1\n",
        "fc = result.predict(start=start,end=end)"
      ],
      "metadata": {
        "id": "ILMf1bJ6y7VK"
      },
      "execution_count": 32,
      "outputs": []
    },
    {
      "cell_type": "code",
      "source": [
        "from sklearn.metrics import mean_squared_error, r2_score\n",
        "from math import sqrt\n",
        "sqrt(mean_squared_error(x_test,fc))"
      ],
      "metadata": {
        "colab": {
          "base_uri": "https://localhost:8080/"
        },
        "id": "riT-0rjM3yCj",
        "outputId": "cf8ce9fd-e0ca-4d1c-9c11-de48c8a9efc1"
      },
      "execution_count": 33,
      "outputs": [
        {
          "output_type": "execute_result",
          "data": {
            "text/plain": [
              "47.35160303130853"
            ]
          },
          "metadata": {},
          "execution_count": 33
        }
      ]
    },
    {
      "cell_type": "code",
      "source": [
        "r2_score(x_test,fc)"
      ],
      "metadata": {
        "colab": {
          "base_uri": "https://localhost:8080/"
        },
        "id": "JwR33oz7AXjl",
        "outputId": "3f595b93-2b6d-4631-8b0e-6977cced3109"
      },
      "execution_count": 34,
      "outputs": [
        {
          "output_type": "execute_result",
          "data": {
            "text/plain": [
              "0.9466613348553223"
            ]
          },
          "metadata": {},
          "execution_count": 34
        }
      ]
    },
    {
      "cell_type": "code",
      "source": [
        "#Plotting \n",
        "plt.figure(figsize=(10,6), dpi=100)\n",
        "plt.style.use(\"dark_background\")\n",
        "\n",
        "#plt.plot(x_train, label='training', color = \"green\")\n",
        "plt.plot(x_test,label='actual', color = \"red\")\n",
        "plt.plot(fc , label='forecast', color = \"blue\")\n",
        "plt.title('Forecast vs Actuals')\n",
        "\n",
        "plt.legend(loc='upper left', fontsize=8)\n",
        "plt.grid()\n",
        "plt.show()"
      ],
      "metadata": {
        "colab": {
          "base_uri": "https://localhost:8080/",
          "height": 536
        },
        "id": "8EsugAo9Z-_r",
        "outputId": "18ad0a01-c8a6-4237-e24a-9c8ea72d96ff"
      },
      "execution_count": 35,
      "outputs": [
        {
          "output_type": "display_data",
          "data": {
            "text/plain": [
              "<Figure size 1000x600 with 1 Axes>"
            ],
            "image/png": "[encoded data removed]"
          },
          "metadata": {}
        }
      ]
    }
  ]
}